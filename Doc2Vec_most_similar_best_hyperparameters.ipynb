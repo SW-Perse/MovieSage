{
  "nbformat": 4,
  "nbformat_minor": 0,
  "metadata": {
    "colab": {
      "provenance": []
    },
    "kernelspec": {
      "name": "python3",
      "display_name": "Python 3"
    },
    "language_info": {
      "name": "python"
    }
  },
  "cells": [
    {
      "cell_type": "code",
      "source": [
        "#Step 1 : Importing the necessary libraries\n",
        "import nltk\n",
        "print(nltk.__version__)\n",
        "import gensim\n",
        "print(gensim.__version__)\n",
        "nltk.download(\"punkt\")\n",
        "import pandas as pd\n",
        "\n",
        "from nltk.tokenize import word_tokenize\n",
        "\n",
        "import pandas as pd\n",
        "from gensim.models.doc2vec import TaggedDocument\n",
        "from gensim.models import Doc2Vec\n",
        "from gensim.utils import simple_preprocess\n"
      ],
      "metadata": {
        "colab": {
          "base_uri": "https://localhost:8080/"
        },
        "id": "KQAmsn1XbnFF",
        "outputId": "bf99ee1d-e11b-483a-96cb-c255daa667c6"
      },
      "execution_count": 1,
      "outputs": [
        {
          "output_type": "stream",
          "name": "stdout",
          "text": [
            "3.8.1\n",
            "4.3.1\n"
          ]
        },
        {
          "output_type": "stream",
          "name": "stderr",
          "text": [
            "[nltk_data] Downloading package punkt to /root/nltk_data...\n",
            "[nltk_data]   Unzipping tokenizers/punkt.zip.\n"
          ]
        }
      ]
    },
    {
      "cell_type": "code",
      "source": [
        "#Step 2 : Load csv file\n",
        "data=pd.read_csv('/content/embedding_ready_dataset.csv', engine='python')\n",
        "data.head()"
      ],
      "metadata": {
        "colab": {
          "base_uri": "https://localhost:8080/",
          "height": 608
        },
        "id": "5Wzprvlpb6_t",
        "outputId": "1017a070-8c3b-4c7d-ac15-de12087d8049"
      },
      "execution_count": 2,
      "outputs": [
        {
          "output_type": "execute_result",
          "data": {
            "text/plain": [
              "   Unnamed: 0                                title release_date  \\\n",
              "0           0                               Fast X   2023-05-17   \n",
              "1           1                 John Wick: Chapter 4   2023-03-22   \n",
              "2           2          The Super Mario Bros. Movie   2023-04-05   \n",
              "3           3  Spider-Man: Across the Spider-Verse   2023-05-31   \n",
              "4           4                             Hypnotic   2023-05-11   \n",
              "\n",
              "                                              genres  vote_average  \\\n",
              "0                    ['Action', 'Crime', 'Thriller']           7.4   \n",
              "1                    ['Action', 'Thriller', 'Crime']           7.9   \n",
              "2  ['Animation', 'Family', 'Adventure', 'Fantasy'...           7.8   \n",
              "3  ['Action', 'Adventure', 'Animation', 'Science ...           8.8   \n",
              "4         ['Mystery', 'Thriller', 'Science Fiction']           6.5   \n",
              "\n",
              "                                            overview  runtime  \\\n",
              "0  Over many missions and against impossible odds...    142.0   \n",
              "1  With the price on his head ever increasing, Jo...    170.0   \n",
              "2  While working underground to fix a water main,...     92.0   \n",
              "3  After reuniting with Gwen Stacy, Brooklyn’s fu...    140.0   \n",
              "4  A detective becomes entangled in a mystery inv...     94.0   \n",
              "\n",
              "                                   tagline  \\\n",
              "0              The end of the road begins.   \n",
              "1                No way back, one way out.   \n",
              "2                                      NaN   \n",
              "3  It's how you wear the mask that matters   \n",
              "4                  Control is an illusion.   \n",
              "\n",
              "                                    text_description  \\\n",
              "0  The end of the road begins. Over many missions...   \n",
              "1  No way back, one way out. With the price on hi...   \n",
              "2   While working underground to fix a water main...   \n",
              "3  It's how you wear the mask that matters After ...   \n",
              "4  Control is an illusion. A detective becomes en...   \n",
              "\n",
              "                                      embeddind_prep  \n",
              "0  Action Crime Thriller. The end of the road beg...  \n",
              "1  Action Thriller Crime. No way back, one way ou...  \n",
              "2  Animation Family Adventure Fantasy Comedy.  Wh...  \n",
              "3  Action Adventure Animation Science Fiction. It...  \n",
              "4  Mystery Thriller Science Fiction. Control is a...  "
            ],
            "text/html": [
              "\n",
              "  <div id=\"df-66211ac8-e489-4a6d-bd82-1960075c8e47\" class=\"colab-df-container\">\n",
              "    <div>\n",
              "<style scoped>\n",
              "    .dataframe tbody tr th:only-of-type {\n",
              "        vertical-align: middle;\n",
              "    }\n",
              "\n",
              "    .dataframe tbody tr th {\n",
              "        vertical-align: top;\n",
              "    }\n",
              "\n",
              "    .dataframe thead th {\n",
              "        text-align: right;\n",
              "    }\n",
              "</style>\n",
              "<table border=\"1\" class=\"dataframe\">\n",
              "  <thead>\n",
              "    <tr style=\"text-align: right;\">\n",
              "      <th></th>\n",
              "      <th>Unnamed: 0</th>\n",
              "      <th>title</th>\n",
              "      <th>release_date</th>\n",
              "      <th>genres</th>\n",
              "      <th>vote_average</th>\n",
              "      <th>overview</th>\n",
              "      <th>runtime</th>\n",
              "      <th>tagline</th>\n",
              "      <th>text_description</th>\n",
              "      <th>embeddind_prep</th>\n",
              "    </tr>\n",
              "  </thead>\n",
              "  <tbody>\n",
              "    <tr>\n",
              "      <th>0</th>\n",
              "      <td>0</td>\n",
              "      <td>Fast X</td>\n",
              "      <td>2023-05-17</td>\n",
              "      <td>['Action', 'Crime', 'Thriller']</td>\n",
              "      <td>7.4</td>\n",
              "      <td>Over many missions and against impossible odds...</td>\n",
              "      <td>142.0</td>\n",
              "      <td>The end of the road begins.</td>\n",
              "      <td>The end of the road begins. Over many missions...</td>\n",
              "      <td>Action Crime Thriller. The end of the road beg...</td>\n",
              "    </tr>\n",
              "    <tr>\n",
              "      <th>1</th>\n",
              "      <td>1</td>\n",
              "      <td>John Wick: Chapter 4</td>\n",
              "      <td>2023-03-22</td>\n",
              "      <td>['Action', 'Thriller', 'Crime']</td>\n",
              "      <td>7.9</td>\n",
              "      <td>With the price on his head ever increasing, Jo...</td>\n",
              "      <td>170.0</td>\n",
              "      <td>No way back, one way out.</td>\n",
              "      <td>No way back, one way out. With the price on hi...</td>\n",
              "      <td>Action Thriller Crime. No way back, one way ou...</td>\n",
              "    </tr>\n",
              "    <tr>\n",
              "      <th>2</th>\n",
              "      <td>2</td>\n",
              "      <td>The Super Mario Bros. Movie</td>\n",
              "      <td>2023-04-05</td>\n",
              "      <td>['Animation', 'Family', 'Adventure', 'Fantasy'...</td>\n",
              "      <td>7.8</td>\n",
              "      <td>While working underground to fix a water main,...</td>\n",
              "      <td>92.0</td>\n",
              "      <td>NaN</td>\n",
              "      <td>While working underground to fix a water main...</td>\n",
              "      <td>Animation Family Adventure Fantasy Comedy.  Wh...</td>\n",
              "    </tr>\n",
              "    <tr>\n",
              "      <th>3</th>\n",
              "      <td>3</td>\n",
              "      <td>Spider-Man: Across the Spider-Verse</td>\n",
              "      <td>2023-05-31</td>\n",
              "      <td>['Action', 'Adventure', 'Animation', 'Science ...</td>\n",
              "      <td>8.8</td>\n",
              "      <td>After reuniting with Gwen Stacy, Brooklyn’s fu...</td>\n",
              "      <td>140.0</td>\n",
              "      <td>It's how you wear the mask that matters</td>\n",
              "      <td>It's how you wear the mask that matters After ...</td>\n",
              "      <td>Action Adventure Animation Science Fiction. It...</td>\n",
              "    </tr>\n",
              "    <tr>\n",
              "      <th>4</th>\n",
              "      <td>4</td>\n",
              "      <td>Hypnotic</td>\n",
              "      <td>2023-05-11</td>\n",
              "      <td>['Mystery', 'Thriller', 'Science Fiction']</td>\n",
              "      <td>6.5</td>\n",
              "      <td>A detective becomes entangled in a mystery inv...</td>\n",
              "      <td>94.0</td>\n",
              "      <td>Control is an illusion.</td>\n",
              "      <td>Control is an illusion. A detective becomes en...</td>\n",
              "      <td>Mystery Thriller Science Fiction. Control is a...</td>\n",
              "    </tr>\n",
              "  </tbody>\n",
              "</table>\n",
              "</div>\n",
              "    <div class=\"colab-df-buttons\">\n",
              "\n",
              "  <div class=\"colab-df-container\">\n",
              "    <button class=\"colab-df-convert\" onclick=\"convertToInteractive('df-66211ac8-e489-4a6d-bd82-1960075c8e47')\"\n",
              "            title=\"Convert this dataframe to an interactive table.\"\n",
              "            style=\"display:none;\">\n",
              "\n",
              "  <svg xmlns=\"http://www.w3.org/2000/svg\" height=\"24px\" viewBox=\"0 -960 960 960\">\n",
              "    <path d=\"M120-120v-720h720v720H120Zm60-500h600v-160H180v160Zm220 220h160v-160H400v160Zm0 220h160v-160H400v160ZM180-400h160v-160H180v160Zm440 0h160v-160H620v160ZM180-180h160v-160H180v160Zm440 0h160v-160H620v160Z\"/>\n",
              "  </svg>\n",
              "    </button>\n",
              "\n",
              "  <style>\n",
              "    .colab-df-container {\n",
              "      display:flex;\n",
              "      gap: 12px;\n",
              "    }\n",
              "\n",
              "    .colab-df-convert {\n",
              "      background-color: #E8F0FE;\n",
              "      border: none;\n",
              "      border-radius: 50%;\n",
              "      cursor: pointer;\n",
              "      display: none;\n",
              "      fill: #1967D2;\n",
              "      height: 32px;\n",
              "      padding: 0 0 0 0;\n",
              "      width: 32px;\n",
              "    }\n",
              "\n",
              "    .colab-df-convert:hover {\n",
              "      background-color: #E2EBFA;\n",
              "      box-shadow: 0px 1px 2px rgba(60, 64, 67, 0.3), 0px 1px 3px 1px rgba(60, 64, 67, 0.15);\n",
              "      fill: #174EA6;\n",
              "    }\n",
              "\n",
              "    .colab-df-buttons div {\n",
              "      margin-bottom: 4px;\n",
              "    }\n",
              "\n",
              "    [theme=dark] .colab-df-convert {\n",
              "      background-color: #3B4455;\n",
              "      fill: #D2E3FC;\n",
              "    }\n",
              "\n",
              "    [theme=dark] .colab-df-convert:hover {\n",
              "      background-color: #434B5C;\n",
              "      box-shadow: 0px 1px 3px 1px rgba(0, 0, 0, 0.15);\n",
              "      filter: drop-shadow(0px 1px 2px rgba(0, 0, 0, 0.3));\n",
              "      fill: #FFFFFF;\n",
              "    }\n",
              "  </style>\n",
              "\n",
              "    <script>\n",
              "      const buttonEl =\n",
              "        document.querySelector('#df-66211ac8-e489-4a6d-bd82-1960075c8e47 button.colab-df-convert');\n",
              "      buttonEl.style.display =\n",
              "        google.colab.kernel.accessAllowed ? 'block' : 'none';\n",
              "\n",
              "      async function convertToInteractive(key) {\n",
              "        const element = document.querySelector('#df-66211ac8-e489-4a6d-bd82-1960075c8e47');\n",
              "        const dataTable =\n",
              "          await google.colab.kernel.invokeFunction('convertToInteractive',\n",
              "                                                    [key], {});\n",
              "        if (!dataTable) return;\n",
              "\n",
              "        const docLinkHtml = 'Like what you see? Visit the ' +\n",
              "          '<a target=\"_blank\" href=https://colab.research.google.com/notebooks/data_table.ipynb>data table notebook</a>'\n",
              "          + ' to learn more about interactive tables.';\n",
              "        element.innerHTML = '';\n",
              "        dataTable['output_type'] = 'display_data';\n",
              "        await google.colab.output.renderOutput(dataTable, element);\n",
              "        const docLink = document.createElement('div');\n",
              "        docLink.innerHTML = docLinkHtml;\n",
              "        element.appendChild(docLink);\n",
              "      }\n",
              "    </script>\n",
              "  </div>\n",
              "\n",
              "\n",
              "<div id=\"df-17ed4a54-a166-4eb2-89fe-9ef7072b4783\">\n",
              "  <button class=\"colab-df-quickchart\" onclick=\"quickchart('df-17ed4a54-a166-4eb2-89fe-9ef7072b4783')\"\n",
              "            title=\"Suggest charts.\"\n",
              "            style=\"display:none;\">\n",
              "\n",
              "<svg xmlns=\"http://www.w3.org/2000/svg\" height=\"24px\"viewBox=\"0 0 24 24\"\n",
              "     width=\"24px\">\n",
              "    <g>\n",
              "        <path d=\"M19 3H5c-1.1 0-2 .9-2 2v14c0 1.1.9 2 2 2h14c1.1 0 2-.9 2-2V5c0-1.1-.9-2-2-2zM9 17H7v-7h2v7zm4 0h-2V7h2v10zm4 0h-2v-4h2v4z\"/>\n",
              "    </g>\n",
              "</svg>\n",
              "  </button>\n",
              "\n",
              "<style>\n",
              "  .colab-df-quickchart {\n",
              "    background-color: #E8F0FE;\n",
              "    border: none;\n",
              "    border-radius: 50%;\n",
              "    cursor: pointer;\n",
              "    display: none;\n",
              "    fill: #1967D2;\n",
              "    height: 32px;\n",
              "    padding: 0 0 0 0;\n",
              "    width: 32px;\n",
              "  }\n",
              "\n",
              "  .colab-df-quickchart:hover {\n",
              "    background-color: #E2EBFA;\n",
              "    box-shadow: 0px 1px 2px rgba(60, 64, 67, 0.3), 0px 1px 3px 1px rgba(60, 64, 67, 0.15);\n",
              "    fill: #174EA6;\n",
              "  }\n",
              "\n",
              "  [theme=dark] .colab-df-quickchart {\n",
              "    background-color: #3B4455;\n",
              "    fill: #D2E3FC;\n",
              "  }\n",
              "\n",
              "  [theme=dark] .colab-df-quickchart:hover {\n",
              "    background-color: #434B5C;\n",
              "    box-shadow: 0px 1px 3px 1px rgba(0, 0, 0, 0.15);\n",
              "    filter: drop-shadow(0px 1px 2px rgba(0, 0, 0, 0.3));\n",
              "    fill: #FFFFFF;\n",
              "  }\n",
              "</style>\n",
              "\n",
              "  <script>\n",
              "    async function quickchart(key) {\n",
              "      const charts = await google.colab.kernel.invokeFunction(\n",
              "          'suggestCharts', [key], {});\n",
              "    }\n",
              "    (() => {\n",
              "      let quickchartButtonEl =\n",
              "        document.querySelector('#df-17ed4a54-a166-4eb2-89fe-9ef7072b4783 button');\n",
              "      quickchartButtonEl.style.display =\n",
              "        google.colab.kernel.accessAllowed ? 'block' : 'none';\n",
              "    })();\n",
              "  </script>\n",
              "</div>\n",
              "    </div>\n",
              "  </div>\n"
            ]
          },
          "metadata": {},
          "execution_count": 2
        }
      ]
    },
    {
      "cell_type": "code",
      "source": [
        "data.isnull().sum()"
      ],
      "metadata": {
        "colab": {
          "base_uri": "https://localhost:8080/"
        },
        "id": "GTKVomiQivyd",
        "outputId": "c30d9720-1da9-4f8c-ffe6-86d5be8e0b71"
      },
      "execution_count": 3,
      "outputs": [
        {
          "output_type": "execute_result",
          "data": {
            "text/plain": [
              "Unnamed: 0             0\n",
              "title                  0\n",
              "release_date          21\n",
              "genres                 0\n",
              "vote_average           0\n",
              "overview               0\n",
              "runtime                1\n",
              "tagline             2541\n",
              "text_description       0\n",
              "embeddind_prep         0\n",
              "dtype: int64"
            ]
          },
          "metadata": {},
          "execution_count": 3
        }
      ]
    },
    {
      "cell_type": "code",
      "source": [
        "# Step 3: Preprocessing\n",
        "def preprocess_text(text):\n",
        "    # Tokenize and preprocess the text\n",
        "    tokens = simple_preprocess(text)\n",
        "    return tokens\n",
        "\n",
        "data['preprocessed_summary'] = data['embeddind_prep'].apply(preprocess_text)\n"
      ],
      "metadata": {
        "id": "Ii-pbggvfBNj"
      },
      "execution_count": 4,
      "outputs": []
    },
    {
      "cell_type": "code",
      "source": [
        "# Step 4: Tagging and Vectorization\n",
        "tagged_data = [TaggedDocument(words=doc, tags=[str(i)]) for i, doc in enumerate(data['preprocessed_summary'])]"
      ],
      "metadata": {
        "id": "PRkR2N9FiyZY"
      },
      "execution_count": 5,
      "outputs": []
    },
    {
      "cell_type": "code",
      "source": [
        "#Step 5: New summary\n",
        "new_summary = \"an orphan boy learns how to use his magical powers\"\n",
        "new_preprocessed_summary = preprocess_text(new_summary)"
      ],
      "metadata": {
        "id": "CuyBjWgcrvtI"
      },
      "execution_count": 6,
      "outputs": []
    },
    {
      "cell_type": "code",
      "source": [
        "#Step 6 : Finding the best hyperparameters and best similarity\n",
        "import numpy as np\n",
        "\n",
        "def evaluate_model(model, inferred_vector):\n",
        "    document_vectors = np.array([model.dv[i] for i in range(len(tagged_data))])\n",
        "    #cosine_similarities = cosine_similarity(inferred_vector, document_vectors).flatten()\n",
        "    similar_documents = model.dv.most_similar(positive=[inferred_vector], topn=10)\n",
        "    return similar_documents\n",
        "\n",
        "\n",
        "def try_different_parameters(vector_sizes, windows, min_counts, epochs):\n",
        "    best_similarity = -1.0\n",
        "    best_params = {}\n",
        "\n",
        "\n",
        "    for vector_size in vector_sizes:\n",
        "        for window in windows:\n",
        "            for min_count in min_counts:\n",
        "                for num_epochs in epochs:\n",
        "                    # Train Doc2Vec model\n",
        "                    model = Doc2Vec(vector_size=vector_size, window=window, min_count=min_count, workers=4, epochs=num_epochs)\n",
        "                    model.build_vocab(tagged_data)\n",
        "                    model.train(tagged_data, total_examples=model.corpus_count, epochs=model.epochs)\n",
        "\n",
        "                    # Get similar documents using model.dv.most_similar\n",
        "                    similar_documents = model.dv.most_similar(positive=[model.infer_vector(new_preprocessed_summary)], topn=5)\n",
        "                    similarity_scores = [similarity for _, similarity in similar_documents]\n",
        "                    avg_similarity = sum(similarity_scores) / len(similarity_scores)\n",
        "\n",
        "\n",
        "                    # Update best parameters if needed\n",
        "                    if avg_similarity > best_similarity:\n",
        "                        best_similarity = avg_similarity\n",
        "                        best_params = {\n",
        "                            'vector_size': vector_size,\n",
        "                            'window': window,\n",
        "                            'min_count': min_count,\n",
        "                            'epochs': num_epochs\n",
        "                        }\n",
        "    return best_params, best_similarity\n",
        "\n",
        "# Define hyperparameter ranges to try\n",
        "vector_sizes = [50, 100, 150]\n",
        "windows = [1, 3, 5, 7]\n",
        "min_counts = [1, 2, 3]\n",
        "epochs = [10, 20, 30, 40, 50, 60, 70]\n",
        "\n",
        "# Try different hyperparameters and get the best combination\n",
        "best_params, best_similarity = try_different_parameters(vector_sizes, windows, min_counts, epochs)\n",
        "\n",
        "print(\"Best Hyperparameters:\", best_params)\n",
        "print(\"Best Cosine Similarity:\", best_similarity)\n"
      ],
      "metadata": {
        "colab": {
          "base_uri": "https://localhost:8080/"
        },
        "id": "bgScLo3rIXa5",
        "outputId": "452fb3cb-c833-42c4-823e-e94e07d2ff91"
      },
      "execution_count": 146,
      "outputs": [
        {
          "output_type": "stream",
          "name": "stdout",
          "text": [
            "Best Hyperparameters: {'vector_size': 50, 'window': 7, 'min_count': 2, 'epochs': 50}\n",
            "Best Cosine Similarity: 0.8569072484970093\n"
          ]
        }
      ]
    },
    {
      "cell_type": "code",
      "source": [
        "#Step 7: Train Doc2Vec model\n",
        "model = Doc2Vec(vector_size=50, window=7, min_count=2, negative = 5, epochs=50)\n",
        "model.build_vocab(tagged_data)\n",
        "model.train(tagged_data, total_examples=model.corpus_count, epochs=model.epochs)"
      ],
      "metadata": {
        "id": "NKcMmyASi06e"
      },
      "execution_count": 27,
      "outputs": []
    },
    {
      "cell_type": "code",
      "source": [
        "#Step 8: infering new summary\n",
        "inferred_vector = model.infer_vector(new_preprocessed_summary)"
      ],
      "metadata": {
        "id": "vyK_8RfNr7Ma"
      },
      "execution_count": 28,
      "outputs": []
    },
    {
      "cell_type": "code",
      "source": [
        "# Step 9: Calculate Similarities\n",
        "similar_documents = model.dv.most_similar(positive=[inferred_vector], topn=10)"
      ],
      "metadata": {
        "id": "XrXR6nEosq9Z"
      },
      "execution_count": 29,
      "outputs": []
    },
    {
      "cell_type": "code",
      "source": [
        "#Step 10 : Display similar movie titles and summaries\n",
        "print(\"Similar Movies and Summaries:\")\n",
        "for doc_id, similarity in similar_documents:\n",
        "    title = data.iloc[int(doc_id)]['title']\n",
        "    summary = data.iloc[int(doc_id)]['preprocessed_summary']\n",
        "    print(f\"Title: {title}\")\n",
        "    print(f\"Similarity: {similarity:.4f}\")\n",
        "    print(f\"Summary: {summary}\\n\")"
      ],
      "metadata": {
        "colab": {
          "base_uri": "https://localhost:8080/"
        },
        "id": "b6zqewOJszFa",
        "outputId": "dfa9803a-2f2a-47bb-c1b0-494adabcec82"
      },
      "execution_count": 30,
      "outputs": [
        {
          "output_type": "stream",
          "name": "stdout",
          "text": [
            "Similar Movies and Summaries:\n",
            "Title: Doraemon: Nobita's Sky Utopia\n",
            "Similarity: 0.7683\n",
            "Summary: ['animation', 'adventure', 'science', 'fiction', 'doraemon', 'nobita', 'and', 'his', 'friends', 'go', 'to', 'find', 'utopia', 'perfect', 'land', 'in', 'the', 'sky', 'where', 'everyone', 'lives', 'with', 'happiness', 'using', 'an', 'airship', 'having', 'time', 'warp', 'function']\n",
            "\n",
            "Title: Talk to Me\n",
            "Similarity: 0.7390\n",
            "Summary: ['horror', 'thriller', 'you', 'call', 'they', 'll', 'answer', 'when', 'group', 'of', 'friends', 'discover', 'how', 'to', 'conjure', 'spirits', 'using', 'an', 'embalmed', 'hand', 'they', 'become', 'hooked', 'on', 'the', 'new', 'thrill', 'until', 'one', 'of', 'them', 'goes', 'too', 'far', 'and', 'unleashes', 'terrifying', 'supernatural', 'forces']\n",
            "\n",
            "Title: Life in a Year\n",
            "Similarity: 0.7324\n",
            "Summary: ['drama', 'romance', 'year', 'old', 'finds', 'out', 'that', 'his', 'girlfriend', 'is', 'dying', 'so', 'he', 'sets', 'out', 'to', 'give', 'her', 'an', 'entire', 'life', 'in', 'the', 'last', 'year', 'she', 'has', 'left']\n",
            "\n",
            "Title: Deadpool 3\n",
            "Similarity: 0.7227\n",
            "Summary: ['action', 'comedy', 'adventure', 'the', 'third', 'installment', 'in', 'the', 'deadpool', 'franchise']\n",
            "\n",
            "Title: Sex Doll\n",
            "Similarity: 0.7203\n",
            "Summary: ['drama', 'thriller', 'mystery', 'tale', 'of', 'modern', 'love', 'set', 'in', 'london', 'world', 'of', 'high', 'class', 'call', 'girls', 'amoureux', 'solitaires', 'tells', 'the', 'story', 'of', 'london', 'based', 'french', 'escort', 'virginie', 'and', 'rupert', 'man', 'who', 'rescues', 'trafficked', 'girls']\n",
            "\n",
            "Title: Juno\n",
            "Similarity: 0.7200\n",
            "Summary: ['comedy', 'drama', 'romance', 'comedy', 'about', 'growing', 'up', 'and', 'the', 'bumps', 'along', 'the', 'way', 'faced', 'with', 'an', 'unplanned', 'pregnancy', 'an', 'offbeat', 'young', 'woman', 'makes', 'an', 'unusual', 'decision', 'regarding', 'her', 'unborn', 'child']\n",
            "\n",
            "Title: Seifuku niku dorei\n",
            "Similarity: 0.7181\n",
            "Summary: ['roman', 'porno', 'from']\n",
            "\n",
            "Title: El mesero\n",
            "Similarity: 0.7063\n",
            "Summary: ['comedy', 'waiter', 'pretends', 'to', 'be', 'an', 'important', 'businessman', 'in', 'order', 'to', 'reach', 'the', 'upper', 'class', 'through', 'his', 'entrepreneurial', 'dreams']\n",
            "\n",
            "Title: Barbie in Rock 'N Royals\n",
            "Similarity: 0.7056\n",
            "Summary: ['animation', 'music', 'family', 'when', 'royal', 'princess', 'courtney', 'trades', 'places', 'with', 'famous', 'rock', 'star', 'erika', 'two', 'worlds', 'collide', 'while', 'both', 'learn', 'to', 'appreciate', 'new', 'friends', 'and', 'experiences']\n",
            "\n",
            "Title: The Kingdom\n",
            "Similarity: 0.7046\n",
            "Summary: ['thriller', 'action', 'drama', 'how', 'do', 'you', 'stop', 'an', 'enemy', 'who', 'isn', 'afraid', 'to', 'die', 'team', 'of', 'government', 'agents', 'is', 'sent', 'to', 'investigate', 'the', 'bombing', 'of', 'an', 'american', 'facility', 'in', 'the', 'middle', 'east']\n",
            "\n"
          ]
        }
      ]
    },
    {
      "cell_type": "code",
      "source": [],
      "metadata": {
        "id": "VTmpL4Vrsbup"
      },
      "execution_count": null,
      "outputs": []
    }
  ]
}