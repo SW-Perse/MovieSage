{
  "nbformat": 4,
  "nbformat_minor": 0,
  "metadata": {
    "colab": {
      "provenance": []
    },
    "kernelspec": {
      "name": "python3",
      "display_name": "Python 3"
    },
    "language_info": {
      "name": "python"
    }
  },
  "cells": [
    {
      "cell_type": "code",
      "execution_count": 1,
      "metadata": {
        "colab": {
          "base_uri": "https://localhost:8080/"
        },
        "id": "nSKONYwNVLlR",
        "outputId": "0488586e-83ff-4d8a-8a74-d419eb087654"
      },
      "outputs": [
        {
          "output_type": "stream",
          "name": "stdout",
          "text": [
            "3.8.1\n",
            "4.3.1\n"
          ]
        },
        {
          "output_type": "stream",
          "name": "stderr",
          "text": [
            "[nltk_data] Downloading package punkt to /root/nltk_data...\n",
            "[nltk_data]   Unzipping tokenizers/punkt.zip.\n"
          ]
        }
      ],
      "source": [
        "#Step 1 : Importing the necessary libraries\n",
        "import nltk\n",
        "print(nltk.__version__)\n",
        "import gensim\n",
        "print(gensim.__version__)\n",
        "nltk.download(\"punkt\")\n",
        "import pandas as pd\n",
        "import numpy as np\n",
        "from nltk.tokenize import word_tokenize\n",
        "\n",
        "import pandas as pd\n",
        "from gensim.models.doc2vec import TaggedDocument\n",
        "from gensim.models import Doc2Vec\n",
        "from gensim.utils import simple_preprocess\n",
        "from sklearn.metrics.pairwise import cosine_similarity\n",
        "\n"
      ]
    },
    {
      "cell_type": "code",
      "source": [
        "#Step 2 : Load csv file\n",
        "data=pd.read_csv('/content/embedding_ready_dataset.csv')\n",
        "data.head()"
      ],
      "metadata": {
        "colab": {
          "base_uri": "https://localhost:8080/",
          "height": 608
        },
        "id": "nt6rPcY_Vgb4",
        "outputId": "39219c0c-28af-44a4-b5e8-6fa9e104ef34"
      },
      "execution_count": 2,
      "outputs": [
        {
          "output_type": "execute_result",
          "data": {
            "text/plain": [
              "   Unnamed: 0                                title release_date  \\\n",
              "0           0                               Fast X   2023-05-17   \n",
              "1           1                 John Wick: Chapter 4   2023-03-22   \n",
              "2           2          The Super Mario Bros. Movie   2023-04-05   \n",
              "3           3  Spider-Man: Across the Spider-Verse   2023-05-31   \n",
              "4           4                             Hypnotic   2023-05-11   \n",
              "\n",
              "                                              genres  vote_average  \\\n",
              "0                    ['Action', 'Crime', 'Thriller']           7.4   \n",
              "1                    ['Action', 'Thriller', 'Crime']           7.9   \n",
              "2  ['Animation', 'Family', 'Adventure', 'Fantasy'...           7.8   \n",
              "3  ['Action', 'Adventure', 'Animation', 'Science ...           8.8   \n",
              "4         ['Mystery', 'Thriller', 'Science Fiction']           6.5   \n",
              "\n",
              "                                            overview  runtime  \\\n",
              "0  Over many missions and against impossible odds...    142.0   \n",
              "1  With the price on his head ever increasing, Jo...    170.0   \n",
              "2  While working underground to fix a water main,...     92.0   \n",
              "3  After reuniting with Gwen Stacy, Brooklyn’s fu...    140.0   \n",
              "4  A detective becomes entangled in a mystery inv...     94.0   \n",
              "\n",
              "                                   tagline  \\\n",
              "0              The end of the road begins.   \n",
              "1                No way back, one way out.   \n",
              "2                                      NaN   \n",
              "3  It's how you wear the mask that matters   \n",
              "4                  Control is an illusion.   \n",
              "\n",
              "                                    text_description  \\\n",
              "0  The end of the road begins. Over many missions...   \n",
              "1  No way back, one way out. With the price on hi...   \n",
              "2   While working underground to fix a water main...   \n",
              "3  It's how you wear the mask that matters After ...   \n",
              "4  Control is an illusion. A detective becomes en...   \n",
              "\n",
              "                                      embeddind_prep  \n",
              "0  Action Crime Thriller. The end of the road beg...  \n",
              "1  Action Thriller Crime. No way back, one way ou...  \n",
              "2  Animation Family Adventure Fantasy Comedy.  Wh...  \n",
              "3  Action Adventure Animation Science Fiction. It...  \n",
              "4  Mystery Thriller Science Fiction. Control is a...  "
            ],
            "text/html": [
              "\n",
              "  <div id=\"df-5c2a593a-b32f-4297-98bb-ffb79719e4e8\" class=\"colab-df-container\">\n",
              "    <div>\n",
              "<style scoped>\n",
              "    .dataframe tbody tr th:only-of-type {\n",
              "        vertical-align: middle;\n",
              "    }\n",
              "\n",
              "    .dataframe tbody tr th {\n",
              "        vertical-align: top;\n",
              "    }\n",
              "\n",
              "    .dataframe thead th {\n",
              "        text-align: right;\n",
              "    }\n",
              "</style>\n",
              "<table border=\"1\" class=\"dataframe\">\n",
              "  <thead>\n",
              "    <tr style=\"text-align: right;\">\n",
              "      <th></th>\n",
              "      <th>Unnamed: 0</th>\n",
              "      <th>title</th>\n",
              "      <th>release_date</th>\n",
              "      <th>genres</th>\n",
              "      <th>vote_average</th>\n",
              "      <th>overview</th>\n",
              "      <th>runtime</th>\n",
              "      <th>tagline</th>\n",
              "      <th>text_description</th>\n",
              "      <th>embeddind_prep</th>\n",
              "    </tr>\n",
              "  </thead>\n",
              "  <tbody>\n",
              "    <tr>\n",
              "      <th>0</th>\n",
              "      <td>0</td>\n",
              "      <td>Fast X</td>\n",
              "      <td>2023-05-17</td>\n",
              "      <td>['Action', 'Crime', 'Thriller']</td>\n",
              "      <td>7.4</td>\n",
              "      <td>Over many missions and against impossible odds...</td>\n",
              "      <td>142.0</td>\n",
              "      <td>The end of the road begins.</td>\n",
              "      <td>The end of the road begins. Over many missions...</td>\n",
              "      <td>Action Crime Thriller. The end of the road beg...</td>\n",
              "    </tr>\n",
              "    <tr>\n",
              "      <th>1</th>\n",
              "      <td>1</td>\n",
              "      <td>John Wick: Chapter 4</td>\n",
              "      <td>2023-03-22</td>\n",
              "      <td>['Action', 'Thriller', 'Crime']</td>\n",
              "      <td>7.9</td>\n",
              "      <td>With the price on his head ever increasing, Jo...</td>\n",
              "      <td>170.0</td>\n",
              "      <td>No way back, one way out.</td>\n",
              "      <td>No way back, one way out. With the price on hi...</td>\n",
              "      <td>Action Thriller Crime. No way back, one way ou...</td>\n",
              "    </tr>\n",
              "    <tr>\n",
              "      <th>2</th>\n",
              "      <td>2</td>\n",
              "      <td>The Super Mario Bros. Movie</td>\n",
              "      <td>2023-04-05</td>\n",
              "      <td>['Animation', 'Family', 'Adventure', 'Fantasy'...</td>\n",
              "      <td>7.8</td>\n",
              "      <td>While working underground to fix a water main,...</td>\n",
              "      <td>92.0</td>\n",
              "      <td>NaN</td>\n",
              "      <td>While working underground to fix a water main...</td>\n",
              "      <td>Animation Family Adventure Fantasy Comedy.  Wh...</td>\n",
              "    </tr>\n",
              "    <tr>\n",
              "      <th>3</th>\n",
              "      <td>3</td>\n",
              "      <td>Spider-Man: Across the Spider-Verse</td>\n",
              "      <td>2023-05-31</td>\n",
              "      <td>['Action', 'Adventure', 'Animation', 'Science ...</td>\n",
              "      <td>8.8</td>\n",
              "      <td>After reuniting with Gwen Stacy, Brooklyn’s fu...</td>\n",
              "      <td>140.0</td>\n",
              "      <td>It's how you wear the mask that matters</td>\n",
              "      <td>It's how you wear the mask that matters After ...</td>\n",
              "      <td>Action Adventure Animation Science Fiction. It...</td>\n",
              "    </tr>\n",
              "    <tr>\n",
              "      <th>4</th>\n",
              "      <td>4</td>\n",
              "      <td>Hypnotic</td>\n",
              "      <td>2023-05-11</td>\n",
              "      <td>['Mystery', 'Thriller', 'Science Fiction']</td>\n",
              "      <td>6.5</td>\n",
              "      <td>A detective becomes entangled in a mystery inv...</td>\n",
              "      <td>94.0</td>\n",
              "      <td>Control is an illusion.</td>\n",
              "      <td>Control is an illusion. A detective becomes en...</td>\n",
              "      <td>Mystery Thriller Science Fiction. Control is a...</td>\n",
              "    </tr>\n",
              "  </tbody>\n",
              "</table>\n",
              "</div>\n",
              "    <div class=\"colab-df-buttons\">\n",
              "\n",
              "  <div class=\"colab-df-container\">\n",
              "    <button class=\"colab-df-convert\" onclick=\"convertToInteractive('df-5c2a593a-b32f-4297-98bb-ffb79719e4e8')\"\n",
              "            title=\"Convert this dataframe to an interactive table.\"\n",
              "            style=\"display:none;\">\n",
              "\n",
              "  <svg xmlns=\"http://www.w3.org/2000/svg\" height=\"24px\" viewBox=\"0 -960 960 960\">\n",
              "    <path d=\"M120-120v-720h720v720H120Zm60-500h600v-160H180v160Zm220 220h160v-160H400v160Zm0 220h160v-160H400v160ZM180-400h160v-160H180v160Zm440 0h160v-160H620v160ZM180-180h160v-160H180v160Zm440 0h160v-160H620v160Z\"/>\n",
              "  </svg>\n",
              "    </button>\n",
              "\n",
              "  <style>\n",
              "    .colab-df-container {\n",
              "      display:flex;\n",
              "      gap: 12px;\n",
              "    }\n",
              "\n",
              "    .colab-df-convert {\n",
              "      background-color: #E8F0FE;\n",
              "      border: none;\n",
              "      border-radius: 50%;\n",
              "      cursor: pointer;\n",
              "      display: none;\n",
              "      fill: #1967D2;\n",
              "      height: 32px;\n",
              "      padding: 0 0 0 0;\n",
              "      width: 32px;\n",
              "    }\n",
              "\n",
              "    .colab-df-convert:hover {\n",
              "      background-color: #E2EBFA;\n",
              "      box-shadow: 0px 1px 2px rgba(60, 64, 67, 0.3), 0px 1px 3px 1px rgba(60, 64, 67, 0.15);\n",
              "      fill: #174EA6;\n",
              "    }\n",
              "\n",
              "    .colab-df-buttons div {\n",
              "      margin-bottom: 4px;\n",
              "    }\n",
              "\n",
              "    [theme=dark] .colab-df-convert {\n",
              "      background-color: #3B4455;\n",
              "      fill: #D2E3FC;\n",
              "    }\n",
              "\n",
              "    [theme=dark] .colab-df-convert:hover {\n",
              "      background-color: #434B5C;\n",
              "      box-shadow: 0px 1px 3px 1px rgba(0, 0, 0, 0.15);\n",
              "      filter: drop-shadow(0px 1px 2px rgba(0, 0, 0, 0.3));\n",
              "      fill: #FFFFFF;\n",
              "    }\n",
              "  </style>\n",
              "\n",
              "    <script>\n",
              "      const buttonEl =\n",
              "        document.querySelector('#df-5c2a593a-b32f-4297-98bb-ffb79719e4e8 button.colab-df-convert');\n",
              "      buttonEl.style.display =\n",
              "        google.colab.kernel.accessAllowed ? 'block' : 'none';\n",
              "\n",
              "      async function convertToInteractive(key) {\n",
              "        const element = document.querySelector('#df-5c2a593a-b32f-4297-98bb-ffb79719e4e8');\n",
              "        const dataTable =\n",
              "          await google.colab.kernel.invokeFunction('convertToInteractive',\n",
              "                                                    [key], {});\n",
              "        if (!dataTable) return;\n",
              "\n",
              "        const docLinkHtml = 'Like what you see? Visit the ' +\n",
              "          '<a target=\"_blank\" href=https://colab.research.google.com/notebooks/data_table.ipynb>data table notebook</a>'\n",
              "          + ' to learn more about interactive tables.';\n",
              "        element.innerHTML = '';\n",
              "        dataTable['output_type'] = 'display_data';\n",
              "        await google.colab.output.renderOutput(dataTable, element);\n",
              "        const docLink = document.createElement('div');\n",
              "        docLink.innerHTML = docLinkHtml;\n",
              "        element.appendChild(docLink);\n",
              "      }\n",
              "    </script>\n",
              "  </div>\n",
              "\n",
              "\n",
              "<div id=\"df-04670809-bd0c-44d7-9589-bb25bf8e72e0\">\n",
              "  <button class=\"colab-df-quickchart\" onclick=\"quickchart('df-04670809-bd0c-44d7-9589-bb25bf8e72e0')\"\n",
              "            title=\"Suggest charts.\"\n",
              "            style=\"display:none;\">\n",
              "\n",
              "<svg xmlns=\"http://www.w3.org/2000/svg\" height=\"24px\"viewBox=\"0 0 24 24\"\n",
              "     width=\"24px\">\n",
              "    <g>\n",
              "        <path d=\"M19 3H5c-1.1 0-2 .9-2 2v14c0 1.1.9 2 2 2h14c1.1 0 2-.9 2-2V5c0-1.1-.9-2-2-2zM9 17H7v-7h2v7zm4 0h-2V7h2v10zm4 0h-2v-4h2v4z\"/>\n",
              "    </g>\n",
              "</svg>\n",
              "  </button>\n",
              "\n",
              "<style>\n",
              "  .colab-df-quickchart {\n",
              "    background-color: #E8F0FE;\n",
              "    border: none;\n",
              "    border-radius: 50%;\n",
              "    cursor: pointer;\n",
              "    display: none;\n",
              "    fill: #1967D2;\n",
              "    height: 32px;\n",
              "    padding: 0 0 0 0;\n",
              "    width: 32px;\n",
              "  }\n",
              "\n",
              "  .colab-df-quickchart:hover {\n",
              "    background-color: #E2EBFA;\n",
              "    box-shadow: 0px 1px 2px rgba(60, 64, 67, 0.3), 0px 1px 3px 1px rgba(60, 64, 67, 0.15);\n",
              "    fill: #174EA6;\n",
              "  }\n",
              "\n",
              "  [theme=dark] .colab-df-quickchart {\n",
              "    background-color: #3B4455;\n",
              "    fill: #D2E3FC;\n",
              "  }\n",
              "\n",
              "  [theme=dark] .colab-df-quickchart:hover {\n",
              "    background-color: #434B5C;\n",
              "    box-shadow: 0px 1px 3px 1px rgba(0, 0, 0, 0.15);\n",
              "    filter: drop-shadow(0px 1px 2px rgba(0, 0, 0, 0.3));\n",
              "    fill: #FFFFFF;\n",
              "  }\n",
              "</style>\n",
              "\n",
              "  <script>\n",
              "    async function quickchart(key) {\n",
              "      const charts = await google.colab.kernel.invokeFunction(\n",
              "          'suggestCharts', [key], {});\n",
              "    }\n",
              "    (() => {\n",
              "      let quickchartButtonEl =\n",
              "        document.querySelector('#df-04670809-bd0c-44d7-9589-bb25bf8e72e0 button');\n",
              "      quickchartButtonEl.style.display =\n",
              "        google.colab.kernel.accessAllowed ? 'block' : 'none';\n",
              "    })();\n",
              "  </script>\n",
              "</div>\n",
              "    </div>\n",
              "  </div>\n"
            ]
          },
          "metadata": {},
          "execution_count": 2
        }
      ]
    },
    {
      "cell_type": "code",
      "source": [
        "# Step 3: Preprocessing\n",
        "def preprocess_text(text):\n",
        "    # Tokenize and preprocess the text\n",
        "    tokens = simple_preprocess(text)\n",
        "    return tokens\n",
        "\n",
        "data['preprocessed_summary'] = data['embeddind_prep'].apply(preprocess_text)"
      ],
      "metadata": {
        "id": "0Aa2zvQ-Vn-K"
      },
      "execution_count": 3,
      "outputs": []
    },
    {
      "cell_type": "code",
      "source": [
        "# Step 4: Tagging and Vectorization\n",
        "tagged_data = [TaggedDocument(words=doc, tags=[str(i)]) for i, doc in enumerate(data['preprocessed_summary'])]"
      ],
      "metadata": {
        "id": "FyIIYJJ_VoPb"
      },
      "execution_count": 4,
      "outputs": []
    },
    {
      "cell_type": "code",
      "source": [
        "#Step 5 : New summary\n",
        "new_summary = \"an orphan boy learns how to use his magical powers\""
      ],
      "metadata": {
        "id": "84UnVPnsVvhU"
      },
      "execution_count": 5,
      "outputs": []
    },
    {
      "cell_type": "code",
      "source": [
        "new_preprocessed_summary = preprocess_text(new_summary)"
      ],
      "metadata": {
        "id": "hmptlQPMVzpX"
      },
      "execution_count": 6,
      "outputs": []
    },
    {
      "cell_type": "code",
      "source": [
        "#Step 6 : Finding the best hyperparameters and best cosine similarity\n",
        "\n",
        "def evaluate_model(model, inferred_vector):\n",
        "    document_vectors = np.array([model.dv[i] for i in range(len(tagged_data))])\n",
        "    cosine_similarities = cosine_similarity(inferred_vector, document_vectors).flatten()\n",
        "    return cosine_similarities\n",
        "\n",
        "\n",
        "def try_different_parameters(vector_sizes, windows, min_counts, epochs):\n",
        "    best_similarity = -1.0\n",
        "    best_params = {}\n",
        "\n",
        "\n",
        "    for vector_size in vector_sizes:\n",
        "        for window in windows:\n",
        "            for min_count in min_counts:\n",
        "                for num_epochs in epochs:\n",
        "                    # Train Doc2Vec model\n",
        "                    model = Doc2Vec(vector_size=vector_size, window=window, min_count=min_count, workers=4, epochs=num_epochs)\n",
        "                    model.build_vocab(tagged_data)\n",
        "                    model.train(tagged_data, total_examples=model.corpus_count, epochs=model.epochs)\n",
        "\n",
        "                    # Infer vector using the same vector size\n",
        "                    inferred_vector = model.infer_vector(new_preprocessed_summary)\n",
        "                    inferred_vector = inferred_vector.reshape(1, -1)\n",
        "\n",
        "                    # Evaluate the model\n",
        "                    similarity_scores = evaluate_model(model, inferred_vector)\n",
        "                    avg_similarity = np.mean(similarity_scores)\n",
        "\n",
        "                    # Update best parameters if needed\n",
        "                    if avg_similarity > best_similarity:\n",
        "                        best_similarity = avg_similarity\n",
        "                        best_params = {\n",
        "                            'vector_size': vector_size,\n",
        "                            'window': window,\n",
        "                            'min_count': min_count,\n",
        "                            'epochs': num_epochs\n",
        "                        }\n",
        "    return best_params, best_similarity\n",
        "\n",
        "# Define hyperparameter ranges to try\n",
        "vector_sizes = [50, 100, 150]\n",
        "windows = [1, 3, 5, 7]\n",
        "min_counts = [1, 2, 3]\n",
        "epochs = [10, 20, 30, 40, 50, 60, 70]\n",
        "\n",
        "# Try different hyperparameters and get the best combination\n",
        "best_params, best_similarity = try_different_parameters(vector_sizes, windows, min_counts, epochs)\n",
        "\n",
        "print(\"Best Hyperparameters:\", best_params)\n",
        "print(\"Best Cosine Similarity:\", best_similarity)\n",
        "\n"
      ],
      "metadata": {
        "colab": {
          "base_uri": "https://localhost:8080/"
        },
        "id": "rgSDpirjh7NI",
        "outputId": "f3b12425-5eb7-473e-8589-ed63cfc5565c"
      },
      "execution_count": 90,
      "outputs": [
        {
          "output_type": "stream",
          "name": "stdout",
          "text": [
            "Best Hyperparameters: {'vector_size': 50, 'window': 7, 'min_count': 2, 'epochs': 20}\n",
            "Best Cosine Similarity: 0.5181477\n"
          ]
        }
      ]
    },
    {
      "cell_type": "code",
      "source": [
        "# Step 7 : Train Doc2Vec model\n",
        "model = Doc2Vec(vector_size=50, window=7, min_count=2, epochs=20)\n",
        "model.build_vocab(tagged_data)\n",
        "model.train(tagged_data, total_examples=model.corpus_count, epochs=model.epochs)"
      ],
      "metadata": {
        "id": "mqkgzPZ2Vquy"
      },
      "execution_count": 7,
      "outputs": []
    },
    {
      "cell_type": "code",
      "source": [
        "#Step 8 : Infering vector\n",
        "inferred_vector = model.infer_vector(new_preprocessed_summary)"
      ],
      "metadata": {
        "id": "wYx69LfTV1sm"
      },
      "execution_count": 8,
      "outputs": []
    },
    {
      "cell_type": "code",
      "source": [
        "# Step 9 : Calculate Cosine Similarities and Retrieve Movie Titles and Summaries\n",
        "document_vectors = np.array([model.dv[i] for i in range(len(tagged_data))])\n",
        "cosine_similarities = cosine_similarity([inferred_vector], document_vectors).flatten()"
      ],
      "metadata": {
        "id": "JqdWPwkqV6tC"
      },
      "execution_count": 9,
      "outputs": []
    },
    {
      "cell_type": "code",
      "source": [
        "top_similar_indices = np.argsort(cosine_similarities)[-10:][::-1]"
      ],
      "metadata": {
        "id": "Q5vTeyYEWBOG"
      },
      "execution_count": 10,
      "outputs": []
    },
    {
      "cell_type": "code",
      "source": [
        "# Step 10 : Display similar movie titles and summaries\n",
        "print(\"Similar Movies and Summaries:\")\n",
        "for idx in top_similar_indices:\n",
        "    title = data.iloc[idx]['title']\n",
        "    summary = data.iloc[idx]['preprocessed_summary']\n",
        "    similarity = cosine_similarities[idx]\n",
        "    print(f\"Title: {title}\")\n",
        "    print(f\"Cosine Similarity: {similarity:.4f}\")\n",
        "    print(f\"Summary: {summary}\\n\")\n",
        "\n"
      ],
      "metadata": {
        "colab": {
          "base_uri": "https://localhost:8080/"
        },
        "id": "snT8HN1vWDiA",
        "outputId": "c75274bf-f9bc-49c8-f298-4bd7820cd1fc"
      },
      "execution_count": 11,
      "outputs": [
        {
          "output_type": "stream",
          "name": "stdout",
          "text": [
            "Similar Movies and Summaries:\n",
            "Title: Lu Over the Wall\n",
            "Cosine Similarity: 0.8740\n",
            "Summary: ['animation', 'family', 'fantasy', 'adventure', 'comedy', 'music', 'in', 'small', 'fishing', 'village', 'gloomy', 'middle', 'school', 'student', 'named', 'kai', 'meets', 'mermaid', 'named', 'lu']\n",
            "\n",
            "Title: Young Mother-in-Law\n",
            "Cosine Similarity: 0.8649\n",
            "Summary: ['romance', 'young', 'mother', 'in', 'law', 'falls', 'in', 'love', 'with', 'her', 'daughter', 'boyfriend']\n",
            "\n",
            "Title: Playing It Cool\n",
            "Cosine Similarity: 0.8513\n",
            "Summary: ['comedy', 'romance', 'love', 'it', 'balancing', 'act', 'young', 'man', 'meets', 'and', 'instantly', 'falls', 'in', 'love', 'with', 'an', 'engaged', 'woman']\n",
            "\n",
            "Title: Muppets Haunted Mansion\n",
            "Cosine Similarity: 0.8402\n",
            "Summary: ['comedy', 'family', 'tv', 'movie', 'cue', 'the', 'light', 'ning', 'gonzo', 'is', 'challenged', 'to', 'spend', 'one', 'night', 'in', 'the', 'haunted', 'mansion', 'on', 'halloween', 'night']\n",
            "\n",
            "Title: The Green Inferno\n",
            "Cosine Similarity: 0.8378\n",
            "Summary: ['horror', 'thriller', 'adventure', 'fear', 'will', 'eat', 'you', 'alive', 'group', 'of', 'student', 'activists', 'travel', 'from', 'new', 'york', 'city', 'to', 'the', 'amazon', 'to', 'save', 'the', 'rainforest', 'however', 'once', 'they', 'arrive', 'in', 'this', 'vast', 'green', 'landscape', 'they', 'soon', 'discover', 'that', 'they', 'are', 'not', 'alone', 'and', 'that', 'no', 'good', 'deed', 'goes', 'unpunished']\n",
            "\n",
            "Title: Rab Ne Bana Di Jodi\n",
            "Cosine Similarity: 0.8346\n",
            "Summary: ['comedy', 'drama', 'romance', 'there', 'is', 'an', 'extraordinary', 'love', 'story', 'in', 'every', 'ordinary', 'jodi', 'lonely', 'ish', 'man', 'likely', 'to', 'remain', 'bachelor', 'has', 'chance', 'to', 'find', 'the', 'love', 'of', 'his', 'life', 'when', 'he', 'falls', 'for', 'vivacious', 'young', 'woman']\n",
            "\n",
            "Title: Air Strike\n",
            "Cosine Similarity: 0.8331\n",
            "Summary: ['war', 'action', 'adventure', 'drama', 'they', 'fought', 'world', 'war', 'ii', 'greatest', 'battle', 'an', 'american', 'pilot', 'is', 'sent', 'to', 'chinese', 'province', 'to', 'teach', 'crew', 'of', 'would', 'be', 'pilots', 'how', 'to', 'fly', 'war', 'planes', 'against', 'the', 'japanese', 'during', 'world', 'war', 'ii']\n",
            "\n",
            "Title: Sixteen Candles\n",
            "Cosine Similarity: 0.8330\n",
            "Summary: ['comedy', 'romance', 'when', 'you', 're', 'just', 'sixteen', 'anything', 'can', 'happen', 'teenage', 'girl', 'deals', 'with', 'her', 'parents', 'forgetting', 'her', 'birthday', 'and', 'crush', 'on', 'her', 'high', 'school', 'heartthrob']\n",
            "\n",
            "Title: The Student\n",
            "Cosine Similarity: 0.8297\n",
            "Summary: ['drama', 'lana', 'teacher', 'in', 'high', 'school', 'does', 'not', 'know', 'what', 'to', 'do', 'about', 'benny', 'new', 'student', 'who', 'is', 'an', 'aggressive', 'yet', 'coldblooded', 'alfa', 'male', 'benny', 'intimidates', 'her', 'and', 'she', 'tries', 'to', 'escape', 'his', 'dark', 'magnetism']\n",
            "\n",
            "Title: The Temptation of the Mature 50s Mother-in-law\n",
            "Cosine Similarity: 0.8278\n",
            "Summary: ['romance', 'drama', 'young', 'couple', 'lives', 'alone', 'with', 'their', 'father', 'in', 'law', 'while', 'her', 'husband', 'went', 'to', 'work', 'the', 'father', 'in', 'law', 'pretended', 'to', 'have', 'dementia', 'and', 'attacked', 'her', 'one', 'day']\n",
            "\n"
          ]
        }
      ]
    },
    {
      "cell_type": "code",
      "source": [],
      "metadata": {
        "id": "7xKFj4k9puPc"
      },
      "execution_count": 90,
      "outputs": []
    }
  ]
}